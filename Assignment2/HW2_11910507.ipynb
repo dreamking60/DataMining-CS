{
 "cells": [
  {
   "attachments": {},
   "cell_type": "markdown",
   "metadata": {},
   "source": [
    "# Problem1"
   ]
  },
  {
   "cell_type": "code",
   "execution_count": null,
   "metadata": {},
   "outputs": [],
   "source": [
    "import warnings\n",
    "warnings.simplefilter(action='ignore', category=FutureWarning)\n",
    "\n",
    "import pandas as pd\n",
    "\n",
    "# Read the data\n",
    "df_1 = pd.read_csv('HW2_1_data.csv')\n",
    "# clear the raw with NaN value\n",
    "df_1 = df_1.dropna()\n",
    "df_1"
   ]
  },
  {
   "cell_type": "code",
   "execution_count": null,
   "metadata": {},
   "outputs": [],
   "source": [
    "from sklearn.ensemble import GradientBoostingClassifier\n",
    "from sklearn.model_selection import train_test_split\n",
    "from sklearn.metrics import accuracy_score\n",
    "\n",
    "X_train, X_test, y_train, y_test = train_test_split(df_1.iloc[:, :-1], df_1.iloc[:, -1], test_size=0.2, random_state=5)\n",
    "\n",
    "# 训练梯度提升树模型\n",
    "gbc = GradientBoostingClassifier()\n",
    "gbc.fit(X_train, y_train)\n",
    "\n",
    "# 预测测试集\n",
    "y_pred = gbc.predict(X_test)\n",
    "\n",
    "# 评估模型性能\n",
    "acc = accuracy_score(y_test, y_pred)\n",
    "#(max,max_i) = (acc,i) if acc > max else (max,max_i)\n",
    "print(f\"Accuracy: {acc}\")\n"
   ]
  },
  {
   "cell_type": "code",
   "execution_count": null,
   "metadata": {},
   "outputs": [],
   "source": [
    "from sklearn.discriminant_analysis import StandardScaler\n",
    "from sklearn.neighbors import KNeighborsClassifier\n",
    "from sklearn.model_selection import train_test_split\n",
    "from sklearn.metrics import accuracy_score\n",
    "\n",
    "# 读取数据集并进行训练集测试集划分\n",
    "X_train, X_test, y_train, y_test = train_test_split(df_1.iloc[:, :-1], df_1.iloc[:, -1], test_size=0.2, random_state=40)\n",
    "\n",
    "# 使用标准化处理对特征缩放\n",
    "sc = StandardScaler()\n",
    "X_train = sc.fit_transform(X_train)\n",
    "X_test = sc.transform(X_test)\n",
    "\n",
    "# 训练KNN模型\n",
    "knn = KNeighborsClassifier(n_neighbors=1, p=1) \n",
    "knn.fit(X_train, y_train)\n",
    "\n",
    "# 预测测试集\n",
    "y_pred = knn.predict(X_test)\n",
    "\n",
    "# 评估模型性能\n",
    "acc = accuracy_score(y_test, y_pred)\n",
    "print(f\"Accuracy: {acc}\")"
   ]
  },
  {
   "attachments": {},
   "cell_type": "markdown",
   "metadata": {},
   "source": [
    "# Problem2"
   ]
  },
  {
   "cell_type": "code",
   "execution_count": null,
   "metadata": {},
   "outputs": [],
   "source": [
    "df_2 = pd.read_csv(\"HW2_2_data.csv\")"
   ]
  },
  {
   "cell_type": "code",
   "execution_count": null,
   "metadata": {},
   "outputs": [],
   "source": [
    "from sklearn.ensemble import GradientBoostingClassifier\n",
    "from sklearn.model_selection import train_test_split\n",
    "from sklearn.metrics import accuracy_score\n",
    "\n",
    "\n",
    "X_train, X_test, y_train, y_test = train_test_split(df_2.iloc[:, :-1], df_2.iloc[:, -1], test_size=0.2, random_state=8)\n",
    "\n",
    "# 训练梯度提升树模型\n",
    "gbc = GradientBoostingClassifier()\n",
    "gbc.fit(X_train, y_train)\n",
    "\n",
    "# 预测测试集\n",
    "y_pred = gbc.predict(X_test)\n",
    "\n",
    "# 评估模型性能\n",
    "acc = accuracy_score(y_test, y_pred)\n",
    "print(f\"Accuracy: {acc}\")\n",
    "    \n"
   ]
  }
 ],
 "metadata": {
  "kernelspec": {
   "display_name": "base",
   "language": "python",
   "name": "python3"
  },
  "language_info": {
   "codemirror_mode": {
    "name": "ipython",
    "version": 3
   },
   "file_extension": ".py",
   "mimetype": "text/x-python",
   "name": "python",
   "nbconvert_exporter": "python",
   "pygments_lexer": "ipython3",
   "version": "3.9.13"
  },
  "orig_nbformat": 4
 },
 "nbformat": 4,
 "nbformat_minor": 2
}
