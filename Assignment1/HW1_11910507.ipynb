{
 "cells": [
  {
   "cell_type": "code",
   "execution_count": null,
   "metadata": {},
   "outputs": [],
   "source": [
    "import pandas as pd\n",
    "import chardet as cd\n",
    "from pandas import DatetimeTZDtype as dtime\n",
    "\n",
    "# Use detect() to detect the encoding of the file\n",
    "with open(\"HW1data.csv\", 'rb') as testdata:\n",
    "    result = cd.detect(testdata.read(10000))\n",
    "coding = result['encoding']\n",
    "# Read the csv file\n",
    "H_data = pd.read_csv(\"HW1data.csv\", encoding=coding)\n",
    "H_data\n"
   ]
  },
  {
   "cell_type": "code",
   "execution_count": null,
   "metadata": {},
   "outputs": [],
   "source": [
    "# 2 Data clean\n",
    "# (a) Deal with Patient with 62299 rows\n",
    "PatientGroup_dict = H_data.groupby('PatientId').agg({\n",
    "    'Gender': 'first',\n",
    "    'Age': 'first',\n",
    "    'Neighbourhood': 'first',\n",
    "}).to_dict()\n",
    "#PatientGroup\n",
    "# (b) Drop na of PatientId, ScheduledDay, AppointmentDay, SMS_received, No-show\n",
    "H_data_clean = H_data.dropna(subset=['PatientId', 'ScheduledDay', 'AppointmentDay', 'SMS_received', 'No-show']).copy()\n",
    "# (c) Fill na of Gender, Age, Neighbourhood with PatientGroup\n",
    "H_data_clean.loc[:, 'Age'] = H_data_clean['Age'].fillna(H_data_clean['PatientId'].map(PatientGroup_dict['Age']))\n",
    "H_data_clean.loc[:, 'Gender'] = H_data_clean['Gender'].fillna(H_data_clean['PatientId'].map(PatientGroup_dict['Gender']))\n",
    "H_data_clean.loc[:, 'Neighbourhood'] = H_data_clean['Neighbourhood'].fillna(H_data_clean['PatientId'].map(PatientGroup_dict['Neighbourhood']))\n",
    "\n",
    "H_data_clean\n"
   ]
  },
  {
   "cell_type": "code",
   "execution_count": null,
   "metadata": {},
   "outputs": [],
   "source": [
    "# 4 Fill the missing values of Schloarship, Hipertension, Diabetes, Alcoholism, Handcap with 0\n",
    "H_data_fill = H_data_clean.copy()\n",
    "H_data_fill.loc[:, 'Scholarship'] = H_data_fill['Scholarship'].fillna(0)\n",
    "H_data_fill.loc[:, 'Hipertension'] = H_data_fill['Hipertension'].fillna(0)\n",
    "H_data_fill.loc[:, 'Diabetes'] = H_data_fill['Diabetes'].fillna(0)\n",
    "H_data_fill.loc[:, 'Alcoholism'] = H_data_fill['Alcoholism'].fillna(0)\n",
    "H_data_fill.loc[:, 'Handcap'] = H_data_fill['Handcap'].fillna(0)\n",
    "H_data_fill"
   ]
  },
  {
   "cell_type": "code",
   "execution_count": null,
   "metadata": {},
   "outputs": [],
   "source": [
    "# 5 delete two column PatientId and AppointmentID \n",
    "H_data_deleteCol = H_data_fill.drop(columns=['PatientId', 'AppointmentID']).copy()\n",
    "H_data_deleteCol"
   ]
  },
  {
   "cell_type": "code",
   "execution_count": null,
   "metadata": {},
   "outputs": [],
   "source": [
    "# 6 remove the row with whose age has problem\n",
    "# According to science a person can be with age between 0 and 150\n",
    "H_data_AgeProc = H_data_deleteCol[(H_data_deleteCol['Age'] >= 0) & (H_data_deleteCol['Age'] <= 150)].copy()\n",
    "H_data_AgeProc"
   ]
  },
  {
   "cell_type": "code",
   "execution_count": null,
   "metadata": {},
   "outputs": [],
   "source": [
    "# 7 Add a column name Delta_Day which is the substraction between ScheduledDay and AppointmentDay\n",
    "H_data_DeltaDay = H_data_AgeProc.copy()\n",
    "# Change the dtype of ScheduledDay and AppointmentDay so that they can calculate\n",
    "H_data_DeltaDay.loc[:, 'ScheduledDay'] = pd.to_datetime(H_data_DeltaDay['ScheduledDay'], utc=True)\n",
    "H_data_DeltaDay.loc[:, 'AppointmentDay'] = pd.to_datetime(H_data_DeltaDay['AppointmentDay'], utc=True)\n",
    "# Add a column named Delta_Day (only add the day)\n",
    "H_data_DeltaDay['Delta_Day'] = (H_data_DeltaDay['AppointmentDay']-H_data_DeltaDay['ScheduledDay']).dt.days\n",
    "H_data_DeltaDay"
   ]
  },
  {
   "cell_type": "code",
   "execution_count": null,
   "metadata": {},
   "outputs": [],
   "source": [
    "# 8 Add SDay_DOW and ADay_DOW (day of week for ScheduledDay and AppointmentDay)\n",
    "H_data_weekday = H_data_DeltaDay.copy()\n",
    "# A dict for day_of_week to its names\n",
    "weekday_dict = {0: 'Monday', 1: 'Tuesday', 2: 'Wednesday', 3: 'Thursday', 4: 'Friday', 5: 'Saturday', 6: 'Sunday'}\n",
    "# Add SDay and ADay accordint to SD and AD's dt.day_of_week\n",
    "H_data_weekday['SDay_DOW'] = H_data_weekday['ScheduledDay'].dt.day_of_week.map(weekday_dict)\n",
    "H_data_weekday['ADay_DOW'] = H_data_weekday['AppointmentDay'].dt.day_of_week.map(weekday_dict)\n",
    "H_data_weekday"
   ]
  },
  {
   "cell_type": "code",
   "execution_count": null,
   "metadata": {},
   "outputs": [],
   "source": [
    "# 9 delete ScheduledDay and AppointmentDay two columns\n",
    "H_data_final = H_data_weekday.drop(columns=['ScheduledDay', 'AppointmentDay']).copy()\n",
    "H_data_final"
   ]
  }
 ],
 "metadata": {
  "kernelspec": {
   "display_name": "base",
   "language": "python",
   "name": "python3"
  },
  "language_info": {
   "codemirror_mode": {
    "name": "ipython",
    "version": 3
   },
   "file_extension": ".py",
   "mimetype": "text/x-python",
   "name": "python",
   "nbconvert_exporter": "python",
   "pygments_lexer": "ipython3",
   "version": "3.9.13"
  },
  "orig_nbformat": 4
 },
 "nbformat": 4,
 "nbformat_minor": 2
}
